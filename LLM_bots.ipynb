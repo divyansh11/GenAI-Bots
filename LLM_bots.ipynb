{
 "cells": [
  {
   "cell_type": "code",
   "execution_count": 1,
   "id": "6847c098",
   "metadata": {},
   "outputs": [],
   "source": [
    "import langchain\n",
    "import pandas as pd\n",
    "import numpy as np\n",
    "import openai\n",
    "import os"
   ]
  },
  {
   "cell_type": "code",
   "execution_count": 2,
   "id": "77a3b89c",
   "metadata": {},
   "outputs": [],
   "source": [
    "import huggingface_hub"
   ]
  },
  {
   "cell_type": "code",
   "execution_count": 3,
   "id": "5ba6d08a",
   "metadata": {},
   "outputs": [],
   "source": [
    "from langchain.llms import OpenAI"
   ]
  },
  {
   "cell_type": "code",
   "execution_count": 4,
   "id": "cf0a73ad",
   "metadata": {},
   "outputs": [],
   "source": [
    "from langchain import HuggingFaceHub"
   ]
  },
  {
   "cell_type": "code",
   "execution_count": 5,
   "id": "5e3899b8",
   "metadata": {},
   "outputs": [],
   "source": [
    "open_api_key=\"\""
   ]
  },
  {
   "cell_type": "code",
   "execution_count": 7,
   "id": "7450b472",
   "metadata": {},
   "outputs": [],
   "source": [
    "huggingface_api_token=\"\""
   ]
  },
  {
   "cell_type": "code",
   "execution_count": 12,
   "id": "41713480",
   "metadata": {},
   "outputs": [],
   "source": [
    "HUGGINGFACEHUB_API_TOKEN=huggingface_api_token"
   ]
  },
  {
   "cell_type": "code",
   "execution_count": 9,
   "id": "580bbb45",
   "metadata": {},
   "outputs": [],
   "source": [
    "openai.api_key=open_api_key"
   ]
  },
  {
   "cell_type": "code",
   "execution_count": 10,
   "id": "ad62eec4",
   "metadata": {},
   "outputs": [
    {
     "name": "stderr",
     "output_type": "stream",
     "text": [
      "C:\\Users\\divya\\anaconda3\\lib\\site-packages\\langchain_core\\_api\\deprecation.py:117: LangChainDeprecationWarning: The class `langchain_community.llms.openai.OpenAI` was deprecated in langchain-community 0.0.10 and will be removed in 0.2.0. An updated version of the class exists in the langchain-openai package and should be used instead. To use it run `pip install -U langchain-openai` and import as `from langchain_openai import OpenAI`.\n",
      "  warn_deprecated(\n"
     ]
    }
   ],
   "source": [
    "llm=OpenAI(temperature=0.5,api_key=open_api_key)"
   ]
  },
  {
   "cell_type": "code",
   "execution_count": 11,
   "id": "d8f7b08f",
   "metadata": {},
   "outputs": [
    {
     "name": "stderr",
     "output_type": "stream",
     "text": [
      "C:\\Users\\divya\\anaconda3\\lib\\site-packages\\langchain_core\\_api\\deprecation.py:117: LangChainDeprecationWarning: The function `predict` was deprecated in LangChain 0.1.7 and will be removed in 0.2.0. Use invoke instead.\n",
      "  warn_deprecated(\n"
     ]
    },
    {
     "name": "stdout",
     "output_type": "stream",
     "text": [
      "\n",
      "\n",
      "Divyansh, a name so unique\n",
      "Like a ray of sunshine, you mystique\n",
      "With a heart of gold, and a mind so bright\n",
      "You shine in the darkest of night\n",
      "\n",
      "Your smile, like a thousand stars\n",
      "Guiding us through life's unknown bars\n",
      "Your laughter, like a melody\n",
      "Bringing joy to all, endlessly\n",
      "\n",
      "With each step you take, you spread love\n",
      "Like an angel, sent from above\n",
      "Your kindness knows no bounds\n",
      "In your presence, peace surrounds\n",
      "\n",
      "Your name, a reflection of your soul\n",
      "Divine and pure, a beautiful whole\n",
      "In a world of chaos and strife\n",
      "You are the calm, the light of life\n",
      "\n",
      "Divyansh, a name that holds power\n",
      "A symbol of strength, a blooming flower\n",
      "May your light continue to shine\n",
      "And inspire others, like a divine sign\n",
      "\n",
      "So here's a poem, just for you\n",
      "To remind you, of all that you do\n",
      "You are special, in every way\n",
      "Divyansh, may you always stay this way.\n"
     ]
    }
   ],
   "source": [
    "text=\"write a poem for me, my name is Divyansh\"\n",
    "print(llm.predict(text))"
   ]
  },
  {
   "cell_type": "code",
   "execution_count": 13,
   "id": "6b0e11e7",
   "metadata": {},
   "outputs": [
    {
     "name": "stderr",
     "output_type": "stream",
     "text": [
      "C:\\Users\\divya\\anaconda3\\lib\\site-packages\\langchain_core\\_api\\deprecation.py:117: LangChainDeprecationWarning: The class `langchain_community.llms.huggingface_hub.HuggingFaceHub` was deprecated in langchain-community 0.0.21 and will be removed in 0.2.0. Use HuggingFaceEndpoint instead.\n",
      "  warn_deprecated(\n"
     ]
    }
   ],
   "source": [
    "llm_hugging_face=HuggingFaceHub(repo_id=\"google/flan-t5-large\",huggingfacehub_api_token=HUGGINGFACEHUB_API_TOKEN)"
   ]
  },
  {
   "cell_type": "code",
   "execution_count": 14,
   "id": "85dadef4",
   "metadata": {},
   "outputs": [],
   "source": [
    "output=llm_hugging_face.predict(\"what is the capital of india\")"
   ]
  },
  {
   "cell_type": "code",
   "execution_count": 15,
   "id": "2b7e83e3",
   "metadata": {},
   "outputs": [
    {
     "data": {
      "text/plain": [
       "'Delhi'"
      ]
     },
     "execution_count": 15,
     "metadata": {},
     "output_type": "execute_result"
    }
   ],
   "source": [
    "output"
   ]
  },
  {
   "cell_type": "code",
   "execution_count": null,
   "id": "05fdf41b",
   "metadata": {},
   "outputs": [],
   "source": []
  },
  {
   "cell_type": "markdown",
   "id": "5007579c",
   "metadata": {},
   "source": [
    "# Prompt Templates"
   ]
  },
  {
   "cell_type": "code",
   "execution_count": 39,
   "id": "3cf07925",
   "metadata": {},
   "outputs": [],
   "source": [
    "#prompt templates\n",
    "\n",
    "from langchain.prompts import PromptTemplate\n",
    "\n",
    "prompt_template=PromptTemplate(input_variables=['country'],template=\"Tell me the capital of {country}\")"
   ]
  },
  {
   "cell_type": "code",
   "execution_count": 40,
   "id": "8bc62c99",
   "metadata": {},
   "outputs": [
    {
     "data": {
      "text/plain": [
       "'Tell me the capital of India'"
      ]
     },
     "execution_count": 40,
     "metadata": {},
     "output_type": "execute_result"
    }
   ],
   "source": [
    "prompt_template.format(country=\"India\")"
   ]
  },
  {
   "cell_type": "code",
   "execution_count": 41,
   "id": "f11841b5",
   "metadata": {},
   "outputs": [],
   "source": [
    "from langchain.chains import LLMChain"
   ]
  },
  {
   "cell_type": "code",
   "execution_count": 42,
   "id": "8127c934",
   "metadata": {},
   "outputs": [],
   "source": [
    "chain=LLMChain(llm=llm,prompt=prompt_template) # to use both prompt and llm model, we are using chains"
   ]
  },
  {
   "cell_type": "code",
   "execution_count": 43,
   "id": "71da926c",
   "metadata": {},
   "outputs": [
    {
     "data": {
      "text/plain": [
       "'\\n\\nThe capital of India is New Delhi.'"
      ]
     },
     "execution_count": 43,
     "metadata": {},
     "output_type": "execute_result"
    }
   ],
   "source": [
    "chain.run(\"India\")"
   ]
  },
  {
   "cell_type": "code",
   "execution_count": null,
   "id": "a1d49eae",
   "metadata": {},
   "outputs": [],
   "source": [
    "prompt_template2=PromptTemplate(input_variables=['country'],template=\"Tell me the famous cities of this {country}\")"
   ]
  },
  {
   "cell_type": "code",
   "execution_count": null,
   "id": "68a7f031",
   "metadata": {},
   "outputs": [],
   "source": [
    "chain2=LLMChain(llm=llm,prompt=prompt_template2)"
   ]
  },
  {
   "cell_type": "markdown",
   "id": "32acf0c6",
   "metadata": {},
   "source": [
    "# Simple sequential chain"
   ]
  },
  {
   "cell_type": "code",
   "execution_count": 44,
   "id": "9dda00cb",
   "metadata": {},
   "outputs": [],
   "source": [
    "from langchain.chains import SimpleSequentialChain"
   ]
  },
  {
   "cell_type": "code",
   "execution_count": 45,
   "id": "131c3759",
   "metadata": {},
   "outputs": [],
   "source": [
    "chain=SimpleSequentialChain(chains=[chain,chain2])"
   ]
  },
  {
   "cell_type": "code",
   "execution_count": 46,
   "id": "658bfac6",
   "metadata": {},
   "outputs": [
    {
     "data": {
      "text/plain": [
       "' Other famous cities in India include Mumbai, Chennai, Kolkata, Bangalore, Hyderabad, and Jaipur.\\n\\nIn the United States, famous cities include New York City, Los Angeles, Chicago, San Francisco, Miami, Las Vegas, and Washington D.C.\\n\\nIn Europe, some famous cities include Paris, London, Rome, Barcelona, Amsterdam, Berlin, and Prague.\\n\\nIn Asia, some famous cities are Tokyo, Beijing, Seoul, Bangkok, Singapore, Dubai, and Hong Kong.\\n\\nIn South America, Rio de Janeiro, Buenos Aires, Lima, and Sao Paulo are some well-known cities.\\n\\nIn Africa, Cairo, Johannesburg, Nairobi, and Cape Town are some famous cities.\\n\\nIn Australia, Sydney, Melbourne, Brisbane, and Perth are some well-known cities.'"
      ]
     },
     "execution_count": 46,
     "metadata": {},
     "output_type": "execute_result"
    }
   ],
   "source": [
    "chain.run(\"India\")"
   ]
  },
  {
   "cell_type": "markdown",
   "id": "71c618f4",
   "metadata": {},
   "source": [
    "# Chat Models with chatopenai"
   ]
  },
  {
   "cell_type": "code",
   "execution_count": 47,
   "id": "2365756d",
   "metadata": {},
   "outputs": [],
   "source": [
    "from langchain.chat_models import ChatOpenAI"
   ]
  },
  {
   "cell_type": "code",
   "execution_count": 48,
   "id": "20ea3fa0",
   "metadata": {},
   "outputs": [],
   "source": [
    "from langchain.schema import HumanMessage, SystemMessage, AIMessage"
   ]
  },
  {
   "cell_type": "code",
   "execution_count": 54,
   "id": "d2bce060",
   "metadata": {},
   "outputs": [],
   "source": [
    "chatllm=ChatOpenAI(temperature=0.5,api_key=open_api_key,model=\"gpt-3.5-turbo-16k-0613\")"
   ]
  },
  {
   "cell_type": "code",
   "execution_count": 55,
   "id": "e89a3228",
   "metadata": {},
   "outputs": [
    {
     "name": "stderr",
     "output_type": "stream",
     "text": [
      "C:\\Users\\divya\\anaconda3\\lib\\site-packages\\langchain_core\\_api\\deprecation.py:117: LangChainDeprecationWarning: The function `__call__` was deprecated in LangChain 0.1.7 and will be removed in 0.2.0. Use invoke instead.\n",
      "  warn_deprecated(\n"
     ]
    },
    {
     "data": {
      "text/plain": [
       "AIMessage(content=\"Why don't scientists trust atoms?\\n\\nBecause they make up everything!\")"
      ]
     },
     "execution_count": 55,
     "metadata": {},
     "output_type": "execute_result"
    }
   ],
   "source": [
    "chatllm([\n",
    "    SystemMessage(content=\"You are a comedian ai assitant\"),\n",
    "    HumanMessage(content=\"Please provide some comedy punchline\")\n",
    "])"
   ]
  },
  {
   "cell_type": "markdown",
   "id": "017e8f89",
   "metadata": {},
   "source": [
    "# Prompt template+LLM+Output Parser"
   ]
  },
  {
   "cell_type": "code",
   "execution_count": 56,
   "id": "283d7d1e",
   "metadata": {},
   "outputs": [],
   "source": [
    "from langchain.chat_models import ChatOpenAI"
   ]
  },
  {
   "cell_type": "code",
   "execution_count": 57,
   "id": "694d5c83",
   "metadata": {},
   "outputs": [],
   "source": [
    "from langchain.prompts.chat import ChatPromptValue"
   ]
  },
  {
   "cell_type": "code",
   "execution_count": 58,
   "id": "85371db3",
   "metadata": {},
   "outputs": [],
   "source": [
    "from langchain.schema import BaseOutputParser"
   ]
  },
  {
   "cell_type": "code",
   "execution_count": null,
   "id": "1912a51b",
   "metadata": {},
   "outputs": [],
   "source": []
  }
 ],
 "metadata": {
  "kernelspec": {
   "display_name": "Python 3 (ipykernel)",
   "language": "python",
   "name": "python3"
  },
  "language_info": {
   "codemirror_mode": {
    "name": "ipython",
    "version": 3
   },
   "file_extension": ".py",
   "mimetype": "text/x-python",
   "name": "python",
   "nbconvert_exporter": "python",
   "pygments_lexer": "ipython3",
   "version": "3.12.4"
  },
  "toc": {
   "base_numbering": 1,
   "nav_menu": {},
   "number_sections": true,
   "sideBar": true,
   "skip_h1_title": false,
   "title_cell": "Table of Contents",
   "title_sidebar": "Contents",
   "toc_cell": false,
   "toc_position": {},
   "toc_section_display": true,
   "toc_window_display": false
  },
  "varInspector": {
   "cols": {
    "lenName": 16,
    "lenType": 16,
    "lenVar": 40
   },
   "kernels_config": {
    "python": {
     "delete_cmd_postfix": "",
     "delete_cmd_prefix": "del ",
     "library": "var_list.py",
     "varRefreshCmd": "print(var_dic_list())"
    },
    "r": {
     "delete_cmd_postfix": ") ",
     "delete_cmd_prefix": "rm(",
     "library": "var_list.r",
     "varRefreshCmd": "cat(var_dic_list()) "
    }
   },
   "types_to_exclude": [
    "module",
    "function",
    "builtin_function_or_method",
    "instance",
    "_Feature"
   ],
   "window_display": false
  }
 },
 "nbformat": 4,
 "nbformat_minor": 5
}
