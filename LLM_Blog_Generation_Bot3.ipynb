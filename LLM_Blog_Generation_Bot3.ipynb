{
 "cells": [
  {
   "cell_type": "code",
   "execution_count": 18,
   "id": "879bd6b5",
   "metadata": {},
   "outputs": [],
   "source": [
    "import streamlit as st\n",
    "from langchain.prompts import PromptTemplate\n",
    "from langchain.llms import CTransformers"
   ]
  },
  {
   "cell_type": "code",
   "execution_count": 11,
   "id": "db860f02",
   "metadata": {},
   "outputs": [],
   "source": [
    "# Function to get reponse form LLama-2 model\n",
    "\n",
    "def getllama_response(input_text,no_words,blog_style):\n",
    "    \n",
    "    \n",
    "    #Llama-2 model\n",
    "    llm=CTransformers(model=\"C:/Users/divya/Desktop/Open_AI/llama-2-7b-chat.ggmlv3.q8_0.bin\",model_type=\"llama\")\n",
    "    \n",
    "    #Prompt Template\n",
    "    template=\"\"\"Write a blog for {blog_style} for a topic {input_text} within {no_words} words\"\"\"\n",
    "    \n",
    "    prompt=PromptTemplate(input_variables=[\"blog_style\",\"input_text\",\"no_words\"],template=template)\n",
    "    \n",
    "    #Gnerate the response\n",
    "    response=llm(prompt.format(blog_style=blog_style,input_text=input_text,no_words=no_words))\n",
    "    print(response)\n",
    "    return response\n",
    "\n",
    "\n",
    "\n"
   ]
  },
  {
   "cell_type": "code",
   "execution_count": 12,
   "id": "aaed70a3",
   "metadata": {},
   "outputs": [],
   "source": [
    "#making page title, layout and aesthetics of page\n",
    "st.set_page_config(page_title=\"Gnerate Blogs\",layout=\"centered\",initial_sidebar_state=\"collapsed\")"
   ]
  },
  {
   "cell_type": "code",
   "execution_count": 13,
   "id": "f37eccf9",
   "metadata": {},
   "outputs": [
    {
     "data": {
      "text/plain": [
       "DeltaGenerator()"
      ]
     },
     "execution_count": 13,
     "metadata": {},
     "output_type": "execute_result"
    }
   ],
   "source": [
    "#Making header for the page\n",
    "st.header(\"Generate Blogs\")"
   ]
  },
  {
   "cell_type": "code",
   "execution_count": 14,
   "id": "dd992c7b",
   "metadata": {},
   "outputs": [],
   "source": [
    "# Section to input the text from the user\n",
    "input_text=st.text_input(\"Enter the Blog topic\")"
   ]
  },
  {
   "cell_type": "code",
   "execution_count": 15,
   "id": "a7f17684",
   "metadata": {},
   "outputs": [],
   "source": [
    "#Creating two more columns for additional two fields\n",
    "\n",
    "col1, col2=st.columns([5,5])\n",
    "with col1:\n",
    "    no_words=st.text_input(\"No. of words\")\n",
    "\n",
    "with col2:\n",
    "    blog_style=st.selectbox(\"Writing the blog for\",(\"Reserachers\",\"Data Scientist\",\"Common People\"),index=0)\n",
    "\n",
    "submit=st.button(\"Generate\")"
   ]
  },
  {
   "cell_type": "code",
   "execution_count": 16,
   "id": "bb40899b",
   "metadata": {},
   "outputs": [],
   "source": [
    "#Final Response\n",
    "if submit:\n",
    "    st.write(getllama_response(input_text,no_words,blog_style))\n",
    "    "
   ]
  },
  {
   "cell_type": "code",
   "execution_count": null,
   "id": "f068650a",
   "metadata": {},
   "outputs": [],
   "source": []
  }
 ],
 "metadata": {
  "kernelspec": {
   "display_name": "Python 3 (ipykernel)",
   "language": "python",
   "name": "python3"
  },
  "language_info": {
   "codemirror_mode": {
    "name": "ipython",
    "version": 3
   },
   "file_extension": ".py",
   "mimetype": "text/x-python",
   "name": "python",
   "nbconvert_exporter": "python",
   "pygments_lexer": "ipython3",
   "version": "3.9.13"
  },
  "toc": {
   "base_numbering": 1,
   "nav_menu": {},
   "number_sections": true,
   "sideBar": true,
   "skip_h1_title": false,
   "title_cell": "Table of Contents",
   "title_sidebar": "Contents",
   "toc_cell": false,
   "toc_position": {},
   "toc_section_display": true,
   "toc_window_display": false
  },
  "varInspector": {
   "cols": {
    "lenName": 16,
    "lenType": 16,
    "lenVar": 40
   },
   "kernels_config": {
    "python": {
     "delete_cmd_postfix": "",
     "delete_cmd_prefix": "del ",
     "library": "var_list.py",
     "varRefreshCmd": "print(var_dic_list())"
    },
    "r": {
     "delete_cmd_postfix": ") ",
     "delete_cmd_prefix": "rm(",
     "library": "var_list.r",
     "varRefreshCmd": "cat(var_dic_list()) "
    }
   },
   "types_to_exclude": [
    "module",
    "function",
    "builtin_function_or_method",
    "instance",
    "_Feature"
   ],
   "window_display": false
  }
 },
 "nbformat": 4,
 "nbformat_minor": 5
}
