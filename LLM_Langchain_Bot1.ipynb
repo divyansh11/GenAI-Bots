{
 "cells": [
  {
   "cell_type": "code",
   "execution_count": null,
   "id": "20c3d088",
   "metadata": {},
   "outputs": [],
   "source": [
    "import pandas as pd\n",
    "import numpy as np\n",
    "import openai\n",
    "import os\n",
    "import huggingface_hub\n",
    "from langchain.llms import OpenAI\n",
    "from langchain import HuggingFaceHub\n",
    "from langchain.prompts import PromptTemplate\n",
    "from langchain.chains import LLMChain\n",
    "from langchain.chains import SimpleSequentialChain\n",
    "from langchain.chat_models import ChatOpenAI\n",
    "from langchain.schema import HumanMessage, SystemMessage, AIMessage\n",
    "import streamlit as st"
   ]
  },
  {
   "cell_type": "code",
   "execution_count": null,
   "id": "173b5a5b",
   "metadata": {},
   "outputs": [],
   "source": [
    "open_api_key=\"\""
   ]
  },
  {
   "cell_type": "code",
   "execution_count": null,
   "id": "517b9da2",
   "metadata": {},
   "outputs": [],
   "source": [
    "openai.api_key=open_api_key"
   ]
  },
  {
   "cell_type": "code",
   "execution_count": null,
   "id": "4b517084",
   "metadata": {},
   "outputs": [],
   "source": [
    "def get_openai_response(question):\n",
    "    llm=OpenAI(model=\"davinci-002\",temperature=0.5,api_key=open_api_key)\n",
    "    response=llm(question)\n",
    "    return response"
   ]
  },
  {
   "cell_type": "code",
   "execution_count": null,
   "id": "1d74d817",
   "metadata": {},
   "outputs": [],
   "source": [
    "st.set_page_config(page_title=\"Q&A demo\")\n",
    "st.header(\"langchain application\")"
   ]
  },
  {
   "cell_type": "code",
   "execution_count": null,
   "id": "3b8e1a0f",
   "metadata": {},
   "outputs": [],
   "source": [
    "input=st.text_input(\"Input\",key=\"input\")\n",
    "response=get_openai_response(input)"
   ]
  },
  {
   "cell_type": "code",
   "execution_count": null,
   "id": "42c0b99b",
   "metadata": {},
   "outputs": [],
   "source": [
    "submit=st.button(\"ask the question\")"
   ]
  },
  {
   "cell_type": "code",
   "execution_count": null,
   "id": "e4d40543",
   "metadata": {},
   "outputs": [],
   "source": [
    "if submit:\n",
    "    st.subheader(\"The response is \")\n",
    "    st.write(response)"
   ]
  },
  {
   "cell_type": "code",
   "execution_count": null,
   "id": "98d77e18",
   "metadata": {},
   "outputs": [],
   "source": []
  }
 ],
 "metadata": {
  "kernelspec": {
   "display_name": "Python 3 (ipykernel)",
   "language": "python",
   "name": "python3"
  },
  "language_info": {
   "codemirror_mode": {
    "name": "ipython",
    "version": 3
   },
   "file_extension": ".py",
   "mimetype": "text/x-python",
   "name": "python",
   "nbconvert_exporter": "python",
   "pygments_lexer": "ipython3",
   "version": "3.12.4"
  },
  "toc": {
   "base_numbering": 1,
   "nav_menu": {},
   "number_sections": true,
   "sideBar": true,
   "skip_h1_title": false,
   "title_cell": "Table of Contents",
   "title_sidebar": "Contents",
   "toc_cell": false,
   "toc_position": {},
   "toc_section_display": true,
   "toc_window_display": false
  },
  "varInspector": {
   "cols": {
    "lenName": 16,
    "lenType": 16,
    "lenVar": 40
   },
   "kernels_config": {
    "python": {
     "delete_cmd_postfix": "",
     "delete_cmd_prefix": "del ",
     "library": "var_list.py",
     "varRefreshCmd": "print(var_dic_list())"
    },
    "r": {
     "delete_cmd_postfix": ") ",
     "delete_cmd_prefix": "rm(",
     "library": "var_list.r",
     "varRefreshCmd": "cat(var_dic_list()) "
    }
   },
   "types_to_exclude": [
    "module",
    "function",
    "builtin_function_or_method",
    "instance",
    "_Feature"
   ],
   "window_display": false
  }
 },
 "nbformat": 4,
 "nbformat_minor": 5
}
