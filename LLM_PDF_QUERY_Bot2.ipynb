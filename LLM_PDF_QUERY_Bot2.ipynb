{
 "cells": [
  {
   "cell_type": "code",
   "execution_count": 1,
   "id": "7fedc8a9",
   "metadata": {},
   "outputs": [],
   "source": [
    "import pandas as pd\n",
    "import numpy as np\n",
    "import openai\n",
    "import os\n",
    "import huggingface_hub\n",
    "from langchain.llms import OpenAI\n",
    "from langchain import HuggingFaceHub\n",
    "from langchain.prompts import PromptTemplate\n",
    "from langchain.chains import LLMChain\n",
    "from langchain.chains import SimpleSequentialChain\n",
    "from langchain.chat_models import ChatOpenAI\n",
    "from langchain.schema import HumanMessage, SystemMessage, AIMessage\n",
    "import streamlit as st"
   ]
  },
  {
   "cell_type": "code",
   "execution_count": 30,
   "id": "dbe60c03",
   "metadata": {},
   "outputs": [],
   "source": [
    "open_api_key=\"\""
   ]
  },
  {
   "cell_type": "code",
   "execution_count": 31,
   "id": "3982e48f",
   "metadata": {},
   "outputs": [],
   "source": [
    "openai.api_key=open_api_key"
   ]
  },
  {
   "cell_type": "code",
   "execution_count": 42,
   "id": "b3927eb2",
   "metadata": {},
   "outputs": [],
   "source": [
    "from sqlalchemy import create_engine"
   ]
  },
  {
   "cell_type": "code",
   "execution_count": 57,
   "id": "9a6fb1bd",
   "metadata": {},
   "outputs": [
    {
     "name": "stdout",
     "output_type": "stream",
     "text": [
      "1.4.39\n"
     ]
    }
   ],
   "source": [
    "print(sqlalchemy.__version__)"
   ]
  },
  {
   "cell_type": "code",
   "execution_count": 44,
   "id": "09864c90",
   "metadata": {
    "scrolled": true
   },
   "outputs": [],
   "source": [
    "from langchain_community.vectorstores.faiss import FAISS"
   ]
  },
  {
   "cell_type": "code",
   "execution_count": 16,
   "id": "0cbbf017",
   "metadata": {},
   "outputs": [],
   "source": [
    "from langchain.vectorstores.cassandra import Cassandra\n",
    "# from langchain.indexes.vectorstore import VectorStoreIndexWrapper\n",
    "from langchain.llms import OpenAI\n",
    "from langchain.embeddings import OpenAIEmbeddings\n",
    "\n",
    "# To improt dataset form huggingface\n",
    "from datasets import load_dataset\n",
    "\n",
    "import cassio"
   ]
  },
  {
   "cell_type": "code",
   "execution_count": 20,
   "id": "dc26e9aa",
   "metadata": {},
   "outputs": [],
   "source": [
    "from PyPDF2 import PdfReader"
   ]
  },
  {
   "cell_type": "code",
   "execution_count": 21,
   "id": "328499ab",
   "metadata": {},
   "outputs": [],
   "source": [
    "astra_db_application_token=\"\"\n",
    "astra_db_id=\"\"\n",
    "\n"
   ]
  },
  {
   "cell_type": "code",
   "execution_count": 22,
   "id": "2b4feafd",
   "metadata": {},
   "outputs": [],
   "source": [
    "#reading the pdf\n",
    "pdfreader=PdfReader(\"VedantaIR2022-040822.pdf\")"
   ]
  },
  {
   "cell_type": "code",
   "execution_count": 24,
   "id": "18fa5e8b",
   "metadata": {},
   "outputs": [],
   "source": [
    "#reading the pdf which was imported and taking content/text from it\n",
    "from typing_extensions import Concatenate\n",
    "raw_text=\"\"\n",
    "\n",
    "for i, page in enumerate(pdfreader.pages):\n",
    "    content=page.extract_text()\n",
    "    if content:\n",
    "        raw_text+=content"
   ]
  },
  {
   "cell_type": "code",
   "execution_count": 25,
   "id": "879011c1",
   "metadata": {},
   "outputs": [],
   "source": [
    "#Initializing connection to database\n",
    "cassio.init(token=astra_db_application_token,database_id=astra_db_id)"
   ]
  },
  {
   "cell_type": "code",
   "execution_count": 32,
   "id": "1e98beb6",
   "metadata": {},
   "outputs": [],
   "source": [
    "#Initalizing open ai api key and embeddings\n",
    "llm=OpenAI(api_key=open_api_key)\n",
    "embedding=OpenAIEmbeddings(openai_api_key=open_api_key)"
   ]
  },
  {
   "cell_type": "code",
   "execution_count": 33,
   "id": "0fd626d2",
   "metadata": {},
   "outputs": [],
   "source": [
    "#Creating Langchain Vectorstore backed by Astra DB\n",
    "\n",
    "astra_vector_store=Cassandra(embedding=embedding,table_name=\"qa_mini_demo\",session=None,keyspace=None)"
   ]
  },
  {
   "cell_type": "code",
   "execution_count": 39,
   "id": "f47c482d",
   "metadata": {},
   "outputs": [],
   "source": [
    "# Splitting the data into chunks\n",
    "from langchain.text_splitter import CharacterTextSplitter\n",
    "\n",
    "# we need to split the text, such that it would not increase the token size\n",
    "text_splitter=CharacterTextSplitter(separator=\"\\n\",chunk_size=800,chunk_overlap=200,length_function=len,)\n",
    "text=text_splitter.split_text(raw_text)"
   ]
  },
  {
   "cell_type": "code",
   "execution_count": 45,
   "id": "8819ad98",
   "metadata": {},
   "outputs": [],
   "source": [
    "#Load the dataset into vector store\n",
    "astra_vector_store.add_texts(text[:50])\n",
    "\n",
    "astra_vector_index=FAISS.from_texts(texts=text[:50],embedding=embedding)"
   ]
  },
  {
   "cell_type": "code",
   "execution_count": null,
   "id": "e16103e2",
   "metadata": {},
   "outputs": [],
   "source": [
    "first_question=True\n",
    "while True:\n",
    "    if first_question:\n",
    "        query_text=input(\"\\n Enter your question (or type 'quit' to exit): \").strip()\n",
    "    else:\n",
    "        query_text=input(\"\\n What's your next question( or type 'quit' to exit): \").strip()\n",
    "    \n",
    "    if query_text.lower()==\"quit\":\n",
    "        break\n",
    "    if query_text==\"\":\n",
    "        continue\n",
    "    first_question=False\n",
    "    \n",
    "    print(\"\\n Question: \\\"%s\\\"\" % query_text)\n",
    "    answer=astra_vector_index.search(query=query_text,search_type=\"mmr\")\n",
    "    print(\"Answer: \\\"%s\\\"\\n\"% answer)\n",
    "    \n",
    "    print(\"first document by relevance:\")\n",
    "    for doc,score in astra_vector_store.similarity_search_with_score(query_text,k=4):\n",
    "        print(\"     [%0.4f] \\\"%s....\\\"\" % (score,doc.page_content[:84]))"
   ]
  },
  {
   "cell_type": "code",
   "execution_count": null,
   "id": "55e40f81",
   "metadata": {},
   "outputs": [],
   "source": []
  }
 ],
 "metadata": {
  "kernelspec": {
   "display_name": "Python 3 (ipykernel)",
   "language": "python",
   "name": "python3"
  },
  "language_info": {
   "codemirror_mode": {
    "name": "ipython",
    "version": 3
   },
   "file_extension": ".py",
   "mimetype": "text/x-python",
   "name": "python",
   "nbconvert_exporter": "python",
   "pygments_lexer": "ipython3",
   "version": "3.12.4"
  },
  "toc": {
   "base_numbering": 1,
   "nav_menu": {},
   "number_sections": true,
   "sideBar": true,
   "skip_h1_title": false,
   "title_cell": "Table of Contents",
   "title_sidebar": "Contents",
   "toc_cell": false,
   "toc_position": {},
   "toc_section_display": true,
   "toc_window_display": false
  },
  "varInspector": {
   "cols": {
    "lenName": 16,
    "lenType": 16,
    "lenVar": 40
   },
   "kernels_config": {
    "python": {
     "delete_cmd_postfix": "",
     "delete_cmd_prefix": "del ",
     "library": "var_list.py",
     "varRefreshCmd": "print(var_dic_list())"
    },
    "r": {
     "delete_cmd_postfix": ") ",
     "delete_cmd_prefix": "rm(",
     "library": "var_list.r",
     "varRefreshCmd": "cat(var_dic_list()) "
    }
   },
   "types_to_exclude": [
    "module",
    "function",
    "builtin_function_or_method",
    "instance",
    "_Feature"
   ],
   "window_display": false
  }
 },
 "nbformat": 4,
 "nbformat_minor": 5
}
